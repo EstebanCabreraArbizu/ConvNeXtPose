{
 "cells": [
  {
   "cell_type": "markdown",
   "id": "17daf72a",
   "metadata": {},
   "source": [
    "# 🎯 ConvNeXtPose Testing en Kaggle - Modelos L y M\n",
    "\n",
    "Este notebook evalúa los modelos ConvNeXtPose L y M en Human3.6M Protocol 2.\n",
    "\n",
    "**Datasets requeridos:**\n",
    "- Human3.6M Dataset (con S9_ACT2_i6, S11_ACT2_i6, annotations)\n",
    "- ConvNeXtPose Pre-trained Models (checkpoints .tar)\n",
    "\n",
    "**GPU recomendada:** T4 x2 o P100"
   ]
  },
  {
   "cell_type": "markdown",
   "id": "e9ee4c88",
   "metadata": {},
   "source": [
    "## 📦 PASO 1: Setup Inicial"
   ]
  },
  {
   "cell_type": "code",
   "execution_count": null,
   "id": "0eba1510",
   "metadata": {},
   "outputs": [],
   "source": [
    "# Clonar repositorio\n",
    "!git clone https://github.com/EstebanCabreraArbizu/ConvNeXtPose.git\n",
    "%cd ConvNeXtPose\n",
    "\n",
    "# Verificar versiones\n",
    "import torch\n",
    "print(f\"PyTorch: {torch.__version__}\")\n",
    "print(f\"CUDA disponible: {torch.cuda.is_available()}\")\n",
    "if torch.cuda.is_available():\n",
    "    print(f\"GPU: {torch.cuda.get_device_name(0)}\")\n",
    "    print(f\"Memoria GPU: {torch.cuda.get_device_properties(0).total_memory / 1e9:.2f} GB\")"
   ]
  },
  {
   "cell_type": "markdown",
   "id": "a1dc19b2",
   "metadata": {},
   "source": [
    "## 🗂️ PASO 2: Configurar Dataset Human3.6M\n",
    "\n",
    "Usamos enlaces simbólicos para evitar copiar ~30GB de datos."
   ]
  },
  {
   "cell_type": "code",
   "execution_count": null,
   "id": "59e3a6e6",
   "metadata": {},
   "outputs": [],
   "source": [
    "# IMPORTANTE: Ajusta este path al nombre real de tu dataset en Kaggle\n",
    "KAGGLE_DATASET_PATH = '/kaggle/input/human36m-dataset'  # ← CAMBIAR SEGÚN TU DATASET\n",
    "\n",
    "# Verificar que el dataset existe\n",
    "import os\n",
    "if not os.path.exists(KAGGLE_DATASET_PATH):\n",
    "    print(f\"❌ Dataset no encontrado en {KAGGLE_DATASET_PATH}\")\n",
    "    print(\"\\n📂 Datasets disponibles:\")\n",
    "    !ls /kaggle/input/\n",
    "    raise FileNotFoundError(\"Verifica el nombre del dataset y actualiza KAGGLE_DATASET_PATH\")\n",
    "else:\n",
    "    print(f\"✓ Dataset encontrado en {KAGGLE_DATASET_PATH}\")\n",
    "    print(\"\\n📂 Contenido:\")\n",
    "    !ls {KAGGLE_DATASET_PATH}"
   ]
  },
  {
   "cell_type": "code",
   "execution_count": null,
   "id": "43d76eb8",
   "metadata": {},
   "outputs": [],
   "source": [
    "# Ejecutar script de configuración automática\n",
    "!python setup_kaggle_dataset.py --kaggle-input {KAGGLE_DATASET_PATH} --output /kaggle/working/data\n",
    "\n",
    "# Configurar variable de entorno\n",
    "os.environ['CONVNEXPOSE_DATA_DIR'] = '/kaggle/working/data'\n",
    "print(\"\\n✓ Variable CONVNEXPOSE_DATA_DIR configurada\")"
   ]
  },
  {
   "cell_type": "code",
   "execution_count": null,
   "id": "c2fdaddc",
   "metadata": {},
   "outputs": [],
   "source": [
    "# Verificar que la estructura es correcta\n",
    "!python setup_kaggle_dataset.py --verify /kaggle/working/data"
   ]
  },
  {
   "cell_type": "markdown",
   "id": "79560116",
   "metadata": {},
   "source": [
    "## 🎯 PASO 3: Preparar Checkpoints\n",
    "\n",
    "Extraer los modelos pre-entrenados."
   ]
  },
  {
   "cell_type": "code",
   "execution_count": null,
   "id": "ace898e2",
   "metadata": {},
   "outputs": [],
   "source": [
    "# IMPORTANTE: Ajusta según el nombre de tu dataset de modelos\n",
    "MODELS_DATASET_PATH = '/kaggle/input/convnextpose-models'  # ← CAMBIAR SEGÚN TU DATASET\n",
    "\n",
    "# Verificar modelos disponibles\n",
    "if os.path.exists(MODELS_DATASET_PATH):\n",
    "    print(\"📦 Modelos disponibles:\")\n",
    "    !ls -lh {MODELS_DATASET_PATH}/models_tar/\n",
    "else:\n",
    "    print(f\"❌ Dataset de modelos no encontrado: {MODELS_DATASET_PATH}\")\n",
    "    print(\"\\n📂 Datasets disponibles:\")\n",
    "    !ls /kaggle/input/"
   ]
  },
  {
   "cell_type": "code",
   "execution_count": null,
   "id": "b531a3fb",
   "metadata": {},
   "outputs": [],
   "source": [
    "\n",
    "import os\n",
    "import zipfile\n",
    "# Crear directorio para modelos\n",
    "os.makedirs('output/model_dump', exist_ok=True)\n",
    "\n",
    "#Extraer modelos preentrenados con zipfile (no son realmente archivos tar)\n",
    "\n",
    "# Extraer modelo L\n",
    "model_l_path = f'{MODELS_DATASET_PATH}/models_tar/ConvNeXtPose_L.tar'\n",
    "if os.path.exists(model_l_path):\n",
    "    print(f\"📦 Extrayendo modelo L desde {model_l_path}...\")\n",
    "    with zipfile.ZipFile(model_l_path, 'r') as zip_ref:\n",
    "        zip_ref.extractall('output/model_dump')\n",
    "    print(f\"✓ Modelo L extraído: {zip_ref.namelist()}\")\n",
    "else:\n",
    "    print(f\"⚠️  Modelo L no encontrado en {model_l_path}\")\n",
    "\n",
    "# Extraer modelo M (opcional)\n",
    "model_m_path = f'{MODELS_DATASET_PATH}/models_tar/ConvNeXtPose_M.tar'\n",
    "if os.path.exists(model_m_path):\n",
    "    print(f\"📦 Extrayendo modelo M desde {model_m_path}...\")\n",
    "    with zipfile.ZipFile(model_m_path, 'r') as zip_ref:\n",
    "        zip_ref.extractall('output/model_dump')\n",
    "    print(f\"✓ Modelo M extraído: {zip_ref.namelist()}\")\n",
    "\n",
    "# Verificar checkpoints extraídos\n",
    "print(\"\\n📂 Checkpoints disponibles:\")\n",
    "!ls -lh output/model_dump/"
   ]
  },
  {
   "cell_type": "code",
   "execution_count": null,
   "id": "fbe7254a",
   "metadata": {},
   "outputs": [],
   "source": [
    "# Verificar el nombre del checkpoint y renombrar si es necesario\n",
    "import glob\n",
    "\n",
    "checkpoints = glob.glob('output/model_dump/snapshot_*.pth*')\n",
    "if checkpoints:\n",
    "    for ckpt in checkpoints:\n",
    "        print(f\"✓ Checkpoint encontrado: {os.path.basename(ckpt)}\")\n",
    "else:\n",
    "    print(\"❌ No se encontraron checkpoints\")\n",
    "    print(\"Verifica que la extracción fue exitosa\")\n",
    "\n",
    "# Si necesitas renombrar (ej: snapshot_68.pth -> snapshot_70.pth):\n",
    "# os.rename('output/model_dump/snapshot_68.pth', 'output/model_dump/snapshot_70.pth')"
   ]
  },
  {
   "cell_type": "markdown",
   "id": "f63761ce",
   "metadata": {},
   "source": [
    "## 🚀 PASO 4: Ejecutar Testing\n",
    "\n",
    "### Modelo L (Large)"
   ]
  },
  {
   "cell_type": "code",
   "execution_count": null,
   "id": "b73d9900",
   "metadata": {},
   "outputs": [],
   "source": [
    "%cd main\n",
    "\n",
    "# AJUSTA EL EPOCH según el nombre de tu checkpoint\n",
    "CHECKPOINT_EPOCH = 68  # Cambiar si tu checkpoint tiene otro número\n",
    "\n",
    "# Testing modelo L\n",
    "!python test.py --gpu 0 --epochs {CHECKPOINT_EPOCH} --variant L"
   ]
  },
  {
   "cell_type": "markdown",
   "id": "86f7ffa5",
   "metadata": {},
   "source": [
    "### Modelo M (Medium) - Opcional"
   ]
  },
  {
   "cell_type": "code",
   "execution_count": null,
   "id": "e8944d98",
   "metadata": {},
   "outputs": [],
   "source": [
    "# Si tienes el checkpoint del modelo M, ejecuta esto:\n",
    "# !python test.py --gpu 0 --epochs {CHECKPOINT_EPOCH} --variant M"
   ]
  },
  {
   "cell_type": "markdown",
   "id": "1df8cdae",
   "metadata": {},
   "source": [
    "## 📊 PASO 5: Verificar Resultados"
   ]
  },
  {
   "cell_type": "code",
   "execution_count": null,
   "id": "8200f20f",
   "metadata": {},
   "outputs": [],
   "source": [
    "# Ver resultados generados\n",
    "%cd ..\n",
    "!ls -lh output/result/\n",
    "\n",
    "# Leer log de resultados\n",
    "import glob\n",
    "log_files = glob.glob('output/log/*.log')\n",
    "if log_files:\n",
    "    latest_log = max(log_files, key=os.path.getctime)\n",
    "    print(f\"\\n📄 Últimas líneas del log ({os.path.basename(latest_log)}):\")\n",
    "    !tail -n 20 {latest_log}\n",
    "else:\n",
    "    print(\"⚠️  No se encontraron logs\")"
   ]
  },
  {
   "cell_type": "markdown",
   "id": "14f8e2af",
   "metadata": {},
   "source": [
    "## 📈 PASO 6: Análisis de Resultados"
   ]
  },
  {
   "cell_type": "code",
   "execution_count": null,
   "id": "145e14d7",
   "metadata": {},
   "outputs": [],
   "source": [
    "import re\n",
    "\n",
    "def extract_mpjpe_from_log(log_path):\n",
    "    \"\"\"Extrae el MPJPE del log\"\"\"\n",
    "    with open(log_path, 'r') as f:\n",
    "        content = f.read()\n",
    "    \n",
    "    # Buscar patrón de MPJPE\n",
    "    pattern = r'MPJPE.*?(\\d+\\.\\d+)'\n",
    "    matches = re.findall(pattern, content)\n",
    "    \n",
    "    if matches:\n",
    "        return float(matches[-1])  # Último valor\n",
    "    return None\n",
    "\n",
    "# Extraer resultados\n",
    "log_files = glob.glob('output/log/*.log')\n",
    "if log_files:\n",
    "    latest_log = max(log_files, key=os.path.getctime)\n",
    "    mpjpe = extract_mpjpe_from_log(latest_log)\n",
    "    \n",
    "    print(\"\\n\" + \"=\"*60)\n",
    "    print(\"  📊 RESULTADOS FINALES\")\n",
    "    print(\"=\"*60)\n",
    "    \n",
    "    if mpjpe:\n",
    "        print(f\"\\n  MPJPE (Protocol 2): {mpjpe:.2f} mm\")\n",
    "        \n",
    "        # Comparar con paper\n",
    "        expected = {\n",
    "            'L': 42.3,\n",
    "            'M': 44.6\n",
    "        }\n",
    "        \n",
    "        # Determinar variante\n",
    "        for variant, expected_val in expected.items():\n",
    "            diff = abs(mpjpe - expected_val)\n",
    "            if diff < 5:\n",
    "                print(f\"\\n  Variante detectada: {variant}\")\n",
    "                print(f\"  Valor del paper: {expected_val:.2f} mm\")\n",
    "                print(f\"  Diferencia: {mpjpe - expected_val:+.2f} mm\")\n",
    "                \n",
    "                if diff < 2:\n",
    "                    print(\"  ✅ Resultado excelente (dentro de ±2mm)\")\n",
    "                elif diff < 5:\n",
    "                    print(\"  ✓ Resultado aceptable (dentro de ±5mm)\")\n",
    "                break\n",
    "    else:\n",
    "        print(\"\\n⚠️  No se pudo extraer MPJPE del log\")\n",
    "        print(\"Revisa el log manualmente en output/log/\")\n",
    "    \n",
    "    print(\"\\n\" + \"=\"*60)\n",
    "else:\n",
    "    print(\"❌ No se encontraron logs de testing\")"
   ]
  },
  {
   "cell_type": "markdown",
   "id": "76e80fd2",
   "metadata": {},
   "source": [
    "## 💾 PASO 7: Guardar Outputs\n",
    "\n",
    "Kaggle guarda automáticamente todo en `/kaggle/working/`. Opcionalmente puedes copiar resultados específicos:"
   ]
  },
  {
   "cell_type": "code",
   "execution_count": null,
   "id": "2acfddb7",
   "metadata": {},
   "outputs": [],
   "source": [
    "# Crear resumen de resultados\n",
    "import json\n",
    "from datetime import datetime\n",
    "\n",
    "summary = {\n",
    "    'timestamp': datetime.now().isoformat(),\n",
    "    'model': 'ConvNeXtPose-L',  # Cambiar según modelo testeado\n",
    "    'checkpoint_epoch': CHECKPOINT_EPOCH,\n",
    "    'dataset': 'Human3.6M Protocol 2',\n",
    "    'mpjpe_mm': mpjpe if 'mpjpe' in locals() else None,\n",
    "    'pytorch_version': torch.__version__,\n",
    "    'cuda_version': torch.version.cuda if torch.cuda.is_available() else None\n",
    "}\n",
    "\n",
    "# Guardar resumen\n",
    "with open('output/result/test_summary.json', 'w') as f:\n",
    "    json.dump(summary, f, indent=2)\n",
    "\n",
    "print(\"✓ Resumen guardado en output/result/test_summary.json\")\n",
    "print(\"\\n📄 Contenido:\")\n",
    "print(json.dumps(summary, indent=2))"
   ]
  },
  {
   "cell_type": "markdown",
   "id": "23f63b45",
   "metadata": {},
   "source": [
    "## 🎉 Testing Completado!\n",
    "\n",
    "Los resultados están en:\n",
    "- **Logs**: `output/log/`\n",
    "- **Resultados**: `output/result/`\n",
    "- **Resumen JSON**: `output/result/test_summary.json`\n",
    "\n",
    "Todos los archivos en `/kaggle/working/ConvNeXtPose/output/` se guardarán automáticamente cuando hagas commit del notebook."
   ]
  }
 ],
 "metadata": {
  "language_info": {
   "name": "python"
  }
 },
 "nbformat": 4,
 "nbformat_minor": 5
}
